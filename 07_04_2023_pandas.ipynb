{
  "nbformat": 4,
  "nbformat_minor": 0,
  "metadata": {
    "colab": {
      "provenance": [],
      "authorship_tag": "ABX9TyP0uGvgKgj63YZtKr9WKzpt",
      "include_colab_link": true
    },
    "kernelspec": {
      "name": "python3",
      "display_name": "Python 3"
    },
    "language_info": {
      "name": "python"
    }
  },
  "cells": [
    {
      "cell_type": "markdown",
      "metadata": {
        "id": "view-in-github",
        "colab_type": "text"
      },
      "source": [
        "<a href=\"https://colab.research.google.com/github/igde69/lessons/blob/main/07_04_2023_pandas.ipynb\" target=\"_parent\"><img src=\"https://colab.research.google.com/assets/colab-badge.svg\" alt=\"Open In Colab\"/></a>"
      ]
    },
    {
      "cell_type": "code",
      "execution_count": null,
      "metadata": {
        "id": "dBc7BSopu41A"
      },
      "outputs": [],
      "source": [
        "import pandas as pd\n",
        "import numpy as np\n",
        "\n",
        "s = pd.Series(np.random.randn(5), index = ['a', 'b', 'c', 'd', 'e'])\n",
        "\n",
        "# print(s)\n",
        "\n",
        "# a    0.191137\n",
        "# b    0.523622\n",
        "# c    1.323045\n",
        "# d   -1.395726\n",
        "# e    1.347446\n",
        "# dtype: float64\n",
        "\n",
        "print(s['a'])\n",
        "\n",
        "# 1.4716652307059275"
      ]
    },
    {
      "cell_type": "code",
      "source": [
        "# Основные объекты pandas ДатаФрейм\n",
        "import pandas as pd\n",
        "import numpy as np\n",
        "#print(pd.__version__)\n",
        "\n",
        "df = pd.DataFrame(np.random.randn(5,3), \n",
        "# объявляем ДатаФрейм, обращаемся к библиотеке pandas. размер DataFrame 5х3\n",
        "index = pd.date_range ('1/1/2023', periods = 5),\n",
        "columns = ['test', 'test1', 'C'])\n",
        "\n",
        "print(df) # получаем сгенерированную табличку рандомных значений\n",
        "\n",
        "print (df.columns ) # Узнать наименования колонок: Index(['test', 'test1', 'C'], dtype='object')\n",
        "\n",
        "df.describe()\n",
        "\n",
        "# test\ttest1\tC\n",
        "# count\t5.000000\t5.000000\t5.000000\n",
        "# mean\t0.546778\t0.316916\t1.187030\n",
        "# std\t0.720751\t1.249082\t0.862598\n",
        "# min\t-0.604467\t-0.915446\t0.139829\n",
        "# 25%\t0.495365\t-0.082637\t0.738583\n",
        "# 50%\t0.613780\t-0.002407\t1.276566\n",
        "# 75%\t0.890354\t0.161863\t1.306143\n",
        "# max\t1.338856\t2.423205\t2.474028\n"
      ],
      "metadata": {
        "id": "hem9cOjcB4Sf"
      },
      "execution_count": null,
      "outputs": []
    },
    {
      "cell_type": "code",
      "source": [
        "import pandas as pd\n",
        "import numpy as np\n",
        "\n",
        "xl = pd.read_excel(\"data.xlsx\", sheet_name = 'Sheet1')\n",
        "\n",
        "print(xl)\n",
        "print(xl.columns)\n"
      ],
      "metadata": {
        "id": "ZAjhBG6XGalB"
      },
      "execution_count": null,
      "outputs": []
    },
    {
      "cell_type": "code",
      "source": [
        "import pandas as pd\n",
        "import numpy as np\n",
        "s = pd.Series([1, 2, 3, 4, 5])\n",
        "s = s.replace(1,3)\n",
        "print(s)\n"
      ],
      "metadata": {
        "id": "HS2aypJmHllN"
      },
      "execution_count": null,
      "outputs": []
    },
    {
      "cell_type": "code",
      "source": [
        "df = pd.DataFrame ({'A': [0, 1, 2, 3, 4],\n",
        "'B': [5, 6, 7, 8, 9],\n",
        "'C': ['a', 'b', 'c', 'd', 'e']})\n",
        "\n",
        "#df = df.replace('a', 5)\n",
        "print(df)\n",
        "\n",
        "#df.to_csv('test.csv') # записать DataFrame в файл\n",
        "#df.to_excel('test.xlsx')"
      ],
      "metadata": {
        "id": "zlIC9cftII_c"
      },
      "execution_count": null,
      "outputs": []
    },
    {
      "cell_type": "code",
      "source": [
        "import pandas as pd\n",
        "import numpy as np\n",
        "\n",
        "print(pd.__version__) # Узнать версию pandas\n",
        "\n",
        "xl = pd.read_excel (\"data.xlsx\", sheet_name = 'Sheet1') # Открыть файл Excel\n",
        "\n",
        "df[df['columnname '] == 'value'] # поиск значений\n",
        "\n",
        "print (df) # Отобразить полученный датафрейм\n",
        "\n",
        "df.describe (include=[ object])# Вывести описание датафрейма"
      ],
      "metadata": {
        "id": "cuS23qbRLckd"
      },
      "execution_count": null,
      "outputs": []
    },
    {
      "cell_type": "code",
      "source": [
        "# 1\n",
        "# Скачайте файл data.xlsx\n",
        "# Откройте его с помощью библиотеки pandas\n",
        "# Выберите все значения, где sku = капуста\n",
        "# Запишите датафрейм в файл task1 в формате csv\n",
        "\n",
        "import pandas as pd\n",
        "import numpy as np\n",
        "\n",
        "xl = pd.read_excel(\"data.xlsx\", sheet_name = 'Sheet1')\n",
        "\n",
        "kapusta = xl[xl['sku'] == 'Капуста']\n",
        "print (kapusta)\n",
        "\n",
        "kapusta.to_excel('task1.xlsx')\n",
        "\n",
        "#      №      sku  volume  price  priceoforder\n",
        "# 2    3  Капуста      35     12           420\n",
        "# 5    6  Капуста      36     12           432\n",
        "# 8    9  Капуста       5     12            60\n",
        "# 17  18  Капуста      80     12           960\n",
        "# 22  23  Капуста      60     12           720\n",
        "# 25  26  Капуста      35     12           420\n",
        "# 28  29  Капуста      36     12           432\n",
        "# 31  32  Капуста       5     12            60\n",
        "# 36  37  Капуста      80     12           960\n"
      ],
      "metadata": {
        "id": "jeg-NUrZKbms"
      },
      "execution_count": null,
      "outputs": []
    },
    {
      "cell_type": "code",
      "source": [
        "# 2\n",
        "# выбрать из df (data.xlsx) sku со значением Киви ценой ( price of order)выше 1000 руб.\n",
        "# записать в формате excel Task2.xlsx\n",
        "\n",
        "import pandas as pd\n",
        "import numpy as np\n",
        "\n",
        "xl = pd.read_excel(\"data.xlsx\", sheet_name = 'Sheet1')\n",
        "kivi1 = xl[xl['sku'] == 'Киви']\n",
        "print (kivi1)\n",
        "\n",
        "kivi2 = kivi1[kivi1['priceoforder'] > 1000]\n",
        "print (kivi2)\n",
        "\n",
        "\n",
        "\n",
        "#      №   sku  volume  price  priceoforder\n",
        "# 4    5  Киви      23     60          1380\n",
        "# 6    7  Киви      60     60          3600\n",
        "# 12  13  Киви      15     60           900\n",
        "# 13  14  Киви      13     60           780\n",
        "# 24  25  Киви      45     60          2700\n",
        "# 27  28  Киви      23     60          1380\n",
        "# 29  30  Киви      60     60          3600\n",
        "#      №   sku  volume  price  priceoforder\n",
        "# 4    5  Киви      23     60          1380\n",
        "# 6    7  Киви      60     60          3600\n",
        "# 24  25  Киви      45     60          2700\n",
        "# 27  28  Киви      23     60          1380\n",
        "# 29  30  Киви      60     60          3600\n"
      ],
      "metadata": {
        "id": "e_bNAxcSSVCS"
      },
      "execution_count": null,
      "outputs": []
    },
    {
      "cell_type": "code",
      "source": [
        "# 3\n",
        "# Выбрать все заказы volume > 15 и вывести полученный df,\n",
        "# выбрать из полученного df все volume < 50 и записать данный df в exсel файл task3.xlsx\n",
        "\n",
        "import pandas as pd\n",
        "import numpy as np\n",
        "\n",
        "xl = pd.read_excel(\"data.xlsx\", sheet_name = 'Sheet1')\n",
        "vol = xl[xl['volume'] > 15]\n",
        "print(vol)\n",
        "vol1 = vol[vol['volume'] < 50]\n",
        "print(vol1)\n",
        "vol1.to_excel('task3.xlsx')"
      ],
      "metadata": {
        "id": "A4wxWteVcaa3"
      },
      "execution_count": null,
      "outputs": []
    }
  ]
}