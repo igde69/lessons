{
  "nbformat": 4,
  "nbformat_minor": 0,
  "metadata": {
    "colab": {
      "provenance": [],
      "authorship_tag": "ABX9TyNjJ4fDBGV3Hnm0So0QVhOQ",
      "include_colab_link": true
    },
    "kernelspec": {
      "name": "python3",
      "display_name": "Python 3"
    },
    "language_info": {
      "name": "python"
    }
  },
  "cells": [
    {
      "cell_type": "markdown",
      "metadata": {
        "id": "view-in-github",
        "colab_type": "text"
      },
      "source": [
        "<a href=\"https://colab.research.google.com/github/igde69/sql_lesson/blob/main/07_04_2023_hometask.ipynb\" target=\"_parent\"><img src=\"https://colab.research.google.com/assets/colab-badge.svg\" alt=\"Open In Colab\"/></a>"
      ]
    },
    {
      "cell_type": "code",
      "source": [
        "# 1_CREATE TABLE School \n",
        "import sqlite3\n",
        "connection = sqlite3.connect('teatchers.db')\n",
        "cursor = connection.cursor()\n",
        "query = \"\"\"CREATE TABLE School (\n",
        "School_Id INTEGER NOT NULL PRIMARY KEY,\n",
        "School_Name TEXT NOT NULL,\n",
        "Place_Count INTEGER NOT NULL\n",
        ");\n",
        "\"\"\"\n",
        "cursor.execute(query)\n",
        "connection.commit()\n",
        "connection.close()\n"
      ],
      "metadata": {
        "id": "oCvT7qV2ggKs"
      },
      "execution_count": null,
      "outputs": []
    },
    {
      "cell_type": "code",
      "source": [
        "# 2_INSERT INTO School \n",
        "import sqlite3\n",
        "connection = sqlite3.connect('teatchers.db')\n",
        "cursor = connection.cursor()\n",
        "query = \"\"\"INSERT INTO School (School_Id , School_Name , Place_Count )\n",
        "VALUES \n",
        "('1', 'Протон', 200),\n",
        "('2', 'Преспектива', 300),\n",
        "('3', 'Спектр', 400),\n",
        "('4', 'Содружество', 500);\n",
        "\"\"\"\n",
        "cursor.execute(query)\n",
        "connection.commit()\n",
        "connection.close()\n"
      ],
      "metadata": {
        "id": "JDQIFLNmgEza"
      },
      "execution_count": null,
      "outputs": []
    },
    {
      "cell_type": "code",
      "source": [
        "# 3_CREATE TABLE Teatcher\n",
        "import sqlite3\n",
        "connection = sqlite3.connect('teatchers.db')\n",
        "cursor = connection.cursor()\n",
        "query = \"\"\"CREATE TABLE Teatcher (\n",
        "Teatcher_Id INTEGER NOT NULL PRIMARY KEY,\n",
        "Teatcher_Name TEXT NOT NULL,\n",
        "School_Id INTEGER NOT NULL,\n",
        "Joining_Date TEXT NOT NULL,\n",
        "Speciality TEXT NOT NULL,\n",
        "Salary INTEGER NOT NULL,\n",
        "Experience INTEGER\n",
        ");\n",
        "\"\"\"\n",
        "cursor.execute(query)\n",
        "connection.commit()\n",
        "connection.close()\n"
      ],
      "metadata": {
        "id": "NUEMyJ3nhfXe"
      },
      "execution_count": 10,
      "outputs": []
    },
    {
      "cell_type": "code",
      "source": [
        "# 4_INSERT INTO Teatcher\n",
        "import sqlite3\n",
        "connection = sqlite3.connect('teatchers.db') \n",
        "cursor = connection.cursor()\n",
        "query = query = \"\"\"INSERT INTO Teatcher (Teatcher_Id , Teatcher_Name , School_Id, Joining_Date , Speciality , Salary, Experience)\n",
        "VALUES\n",
        "('101', 'Галина', '1', '2021 02 10', ' Физик ', '40000', NULL),\n",
        "('102', 'Мария', '1', '2018 07 23', ' Химик ', '20000', NULL),\n",
        "('103', 'Ольга', '2', '2022 05 19', 'Информатик', '25000', NULL),\n",
        "('104', 'Полина', '2', '2017 12 28', 'Физик ', '28000', NULL),\n",
        "('105', 'Лидия', '3', '2015 06 04', 'Информатик', '42000', NULL),\n",
        "('106', 'Анастасия', '3', '2019 09 11', 'Учитель трудов', '30000', NULL),\n",
        "('107', 'Ирина', '4', '2020 08 21', 'Информатик', '32000', NULL),\n",
        "('108', 'Виктория', '4', '2017 10 17', 'Географ', '30000', NULL);\n",
        "\"\"\"\n",
        "\n",
        "cursor.execute(query)\n",
        "connection.commit()\n",
        "connection.close()\n"
      ],
      "metadata": {
        "id": "i7c2O1AQoS24"
      },
      "execution_count": null,
      "outputs": []
    },
    {
      "cell_type": "code",
      "source": [
        "# 5_CREATE TABLE Students\n",
        "import sqlite3\n",
        "connection = sqlite3.connect('teatchers.db')\n",
        "cursor = connection.cursor()\n",
        "query = query = \"\"\"CREATE TABLE Students (\n",
        "Student_Id INTEGER NOT NULL PRIMARY KEY,\n",
        "Student_Name TEXT NOT NULL,\n",
        "School_Id INTEGER NOT NULL\n",
        ");\n",
        "\"\"\"\n",
        "cursor.execute(query)\n",
        "connection.commit()\n",
        "connection.close()"
      ],
      "metadata": {
        "id": "x8A4zJfaoyZ5"
      },
      "execution_count": 14,
      "outputs": []
    },
    {
      "cell_type": "code",
      "source": [
        "# 6_INSERT INTO Students\n",
        "import sqlite3\n",
        "connection = sqlite3.connect('teatchers.db')\n",
        "cursor = connection.cursor()\n",
        "query = \"\"\"INSERT INTO Students (Student_Id , Student_Name , School_Id )\n",
        "VALUES\n",
        "('201','Иван', '1'),\n",
        "('202', 'Пётр', '2'),\n",
        "('203', 'Анастасия', '3'),\n",
        "('204', 'Игорь', '4');\n",
        "\"\"\"\n",
        "cursor.execute(query)\n",
        "connection.commit()\n",
        "connection.close()\n"
      ],
      "metadata": {
        "id": "mInEJkx2pVHv"
      },
      "execution_count": 15,
      "outputs": []
    },
    {
      "cell_type": "code",
      "source": [
        "# Просмотр доступных таблиц\n",
        "import sqlite3\n",
        "\n",
        "connection = sqlite3.connect('teatchers.db')\n",
        "cursor = connection.cursor()\n",
        "query = \"\"\"SELECT * FROM sqlite_master WHERE type = 'table'\"\"\"\n",
        "cursor.execute(query)\n",
        "tables = cursor.fetchall()\n",
        "# print(tables) # в строчку неструктурированно \n",
        "\n",
        "\n",
        "for table in tables:\n",
        "#  print(table)\n",
        "  \n",
        "  print(table[1]) # например только названия таблиц\n",
        "\n",
        "# output:\n",
        "#School\n",
        "#Teatcher\n",
        "#Students"
      ],
      "metadata": {
        "id": "EnO4TYw5pnqf"
      },
      "execution_count": null,
      "outputs": []
    },
    {
      "cell_type": "code",
      "source": [
        "# Просмотр доступных колонок\n",
        "import sqlite3\n",
        "\n",
        "connection = sqlite3.connect('teatchers.db')\n",
        "cursor = connection.cursor()\n",
        "query = \"\"\"SELECT * FROM Teatcher\"\"\"\n",
        "cursor.execute(query)\n",
        "columnames = cursor.description\n",
        "connection.close()\n",
        "#print(columnames)\n",
        "for row in columnames:\n",
        "  print (row[0]) # селектовый запрос наименования колонок по нулевой строке\n",
        "\n",
        "# output:\n",
        "# Teatcher_Id\n",
        "# Teatcher_Name\n",
        "# School_Id\n",
        "# Joining_Date\n",
        "# Speciality\n",
        "# Salary\n",
        "# Experience\n"
      ],
      "metadata": {
        "id": "yI5nzwljr7qv"
      },
      "execution_count": null,
      "outputs": []
    },
    {
      "cell_type": "code",
      "source": [
        "# Вариант №1 решения задачи\n",
        "import sqlite3\n",
        "\n",
        "def get_connection():\n",
        "  connection = sqlite3.connect('teatchers.db')\n",
        "  return connection\n",
        "\n",
        "def close_connection(connection):\n",
        "  if connection:\n",
        "    connection.close()\n",
        "\n",
        "def get_student_detail(student_id):\n",
        "  try:\n",
        "    connection = get_connection()\n",
        "    cursor = connection.cursor()\n",
        "# присоединяем таблицу Students по School_Id по заданному Student_Id     \n",
        "    query = \"\"\"SELECT * FROM School\n",
        "    JOIN Students ON School.School_Id = Students.School_Id \n",
        "    WHERE Students.Student_Id = ?\"\"\"\n",
        "    cursor.execute(query,(student_id,))\n",
        "    records = cursor.fetchall()\n",
        "    # print(records)\n",
        "    print (\"Данные по студенту \\n\")\n",
        "    for row in records:\n",
        "      print (\"ID студента:\", row[3])\n",
        "      print (\"Имя студента::\", row[4])\n",
        "      print (\"ID школы:\", row[0])\n",
        "      print (\"Название школы:\", row[1])\n",
        "    close_connection(connection)\n",
        "  except (Exception, sqlite3.Error) as erorr:\n",
        "    print (\"Ошибка\", erorr)\n",
        "\n",
        "get_student_detail(204)\n",
        "\n",
        "# output:\n",
        "# Данные по студенту \n",
        "\n",
        "# ID студента: 204\n",
        "# Имя студента:: Игорь\n",
        "# ID школы: 4\n",
        "# Название школы: Содружество\n"
      ],
      "metadata": {
        "id": "lb5K9WDDtTOZ"
      },
      "execution_count": null,
      "outputs": []
    },
    {
      "cell_type": "code",
      "source": [
        "# можно создать базу данных Student\n",
        "import sqlite3\n",
        "connection = sqlite3.connect('Student.db')\n",
        "cursor = connection.cursor()\n",
        "query = query = \"\"\"CREATE TABLE Students (\n",
        "Student_Id INTEGER NOT NULL PRIMARY KEY,\n",
        "Student_Name TEXT NOT NULL,\n",
        "School_Id INTEGER NOT NULL\n",
        ");\n",
        "\"\"\"\n",
        "cursor.execute(query)\n",
        "connection.commit()\n",
        "\n",
        "query1 = \"\"\"INSERT INTO Students (Student_Id , Student_Name , School_Id )\n",
        "VALUES\n",
        "('201','Иван', '1'),\n",
        "('202', 'Пётр', '2'),\n",
        "('203', 'Анастасия', '3'),\n",
        "('204', 'Игорь', '4');\n",
        "\"\"\"\n",
        "cursor.execute(query)\n",
        "connection.commit()\n",
        "connection.close()\n"
      ],
      "metadata": {
        "id": "LRn-UH0mx6Ct"
      },
      "execution_count": null,
      "outputs": []
    },
    {
      "cell_type": "code",
      "source": [
        "# Вариант №2. Решение через БД.( можно создать базу данных Students\n",
        "# таблицу testchers удаляем и залмваем исходную где только школы и учителя)\n",
        "import sqlite3\n",
        "\n",
        "def get_schoolname(school_id):\n",
        "  try:\n",
        "    connection = sqlite3.connect('Schools.db')\n",
        "    cursor = connection.cursor()\n",
        "    query = \"\"\"SELECT * FROM School WHERE School_Id = ?\"\"\"\n",
        "    cursor.execute(query,(school_id,))\n",
        "    record = cursor.fetchone()\n",
        "    connection.close()\n",
        "    print (\"Название школы\", record[1])\n",
        "  except (Exception, sqlite3.Error) as erorr:\n",
        "    print (\"Ошибка в получении имени школы\", erorr)\n",
        "\n",
        "# get_schoolname(1)\n",
        "\n",
        "\n",
        "def get_student(student_id):\n",
        "    try:\n",
        "      connection = sqlite3.connect('Student.db')\n",
        "      cursor = connection.cursor()\n",
        "      query = \"\"\"SELECT * FROM Students WHERE Student_Id = ?\"\"\"\n",
        "      cursor.execute(query,(student_id,))\n",
        "      records = cursor.fetchall()\n",
        "      connection.close()\n",
        "      print (\"Данные по студенту \\n\")\n",
        "      for row in records:\n",
        "        print (\"ID студента:\", row[0])\n",
        "        print (\"Имя студента::\", row[1])\n",
        "        print (\"ID школы:\", row[2])\n",
        "        school_id = row[2]\n",
        "        get_schoolname(school_id)\n",
        "    except (Exception, sqlite3.Error) as erorr:\n",
        "      print (\"Ошибка\", erorr)\n",
        "\n",
        "get_student(201)\n"
      ],
      "metadata": {
        "id": "aep22-IgwJwV"
      },
      "execution_count": null,
      "outputs": []
    }
  ]
}