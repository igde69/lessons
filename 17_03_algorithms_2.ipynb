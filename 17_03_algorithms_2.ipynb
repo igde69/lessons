{
  "nbformat": 4,
  "nbformat_minor": 0,
  "metadata": {
    "colab": {
      "provenance": [],
      "authorship_tag": "ABX9TyMVhtx1mZR5FBur5GteAmzu",
      "include_colab_link": true
    },
    "kernelspec": {
      "name": "python3",
      "display_name": "Python 3"
    },
    "language_info": {
      "name": "python"
    }
  },
  "cells": [
    {
      "cell_type": "markdown",
      "metadata": {
        "id": "view-in-github",
        "colab_type": "text"
      },
      "source": [
        "<a href=\"https://colab.research.google.com/github/igde69/lessons/blob/main/17_03_algorithms_2.ipynb\" target=\"_parent\"><img src=\"https://colab.research.google.com/assets/colab-badge.svg\" alt=\"Open In Colab\"/></a>"
      ]
    },
    {
      "cell_type": "code",
      "execution_count": null,
      "metadata": {
        "id": "COg-MFfBUCzz"
      },
      "outputs": [],
      "source": [
        "# Конструкция try / except\n",
        "\n",
        "a = int(input('делимое:'))\n",
        "b = int(input('делитель:'))\n",
        "try:\n",
        "  x = a/b\n",
        "  print (x)\n",
        "except ZeroDivisionError:\n",
        "  print('деление на 0 невозможно')\n",
        "finally:\n",
        "  print('финальная поппытка') \n",
        "  b = int(input('делитель:'))\n",
        "  x = a/b\n",
        "  print(x)\n",
        "\n",
        "\n",
        "# делимое:7\n",
        "# делитель:0\n",
        "# деление на 0 невозможно\n",
        "# финальная поппытка\n",
        "# делитель:7\n",
        "# 1.0\n"
      ]
    },
    {
      "cell_type": "code",
      "source": [
        "# Генератор случайных целочисленных чисел\n",
        "\n",
        "import random\n",
        "x = random.randint (1,10) # Метод randint генерирует значения только целочисленного числа в интервале\n",
        "print ()\n",
        "\n"
      ],
      "metadata": {
        "id": "P4eLMJXJWLph"
      },
      "execution_count": null,
      "outputs": []
    },
    {
      "cell_type": "code",
      "source": [
        "# Выбор случайных значений из списка\n",
        "\n",
        "import random\n",
        "arr = [0,15,32,65,84,'test1','test2']\n",
        "print('случайное', random.choice(arr)) # Метод choice выбирает случайное значение из списка\n"
      ],
      "metadata": {
        "id": "x6q2gv3wWm7d"
      },
      "execution_count": null,
      "outputs": []
    },
    {
      "cell_type": "code",
      "source": [
        "# Генератор float на отрезке со значениями float\n",
        "\n",
        "import random\n",
        "x = random.unirandom(0.2,7.5)\n",
        "print(x)"
      ],
      "metadata": {
        "id": "MMPpyJl5XbRW"
      },
      "execution_count": null,
      "outputs": []
    },
    {
      "cell_type": "code",
      "source": [
        "# 1\n",
        "# Написать алгоритм, где игральный кубик (6 сторонний) бросается 4 раза.\n",
        "# Вывести в результаты каждое выпавшее значение. Найти сумму выпавших значений.\n",
        "\n",
        "import random\n",
        "sum = 0\n",
        "for i in range(4):\n",
        "    com = random.randint(1, 6)\n",
        "    sum += com\n",
        "print('sum:', sum)\n"
      ],
      "metadata": {
        "id": "zFXffASPYwuH"
      },
      "execution_count": null,
      "outputs": []
    },
    {
      "cell_type": "code",
      "source": [
        "# 2\n",
        "import random\n",
        "k = 4\n",
        "y = []\n",
        "while k != 0:\n",
        "  x = random.randint(1, 6)\n",
        "  k -= 1\n",
        "  y.append(x) \n",
        "  print (y)\n",
        "\n",
        "total = sum(y)\n",
        "print('Сумма 4-х бросков', total)\n"
      ],
      "metadata": {
        "id": "myzlSCoC5A5H"
      },
      "execution_count": null,
      "outputs": []
    },
    {
      "cell_type": "code",
      "source": [
        "# Написать алгоритм генератора случайных паролей из следующих символов:\n",
        "# +--/*!&$#?=@<>abcdefghijklnopqrstuvwxyzABCDEFGHIJKLMNOPQRSTUVWXYZ1234567890\n",
        "# Программа должна запрашивать длину необходимого пароля, в случае если в поле для задания длинны вносится не числовое\n",
        "# значение пользователь должен информироваться о том, что он допустил ошибку\n",
        "\n",
        "import random\n",
        "chars = '+--/*!&$#?=@<>abcdefghijklnopqrstuvwxyzABCDEFGHIJKLMNOPQRSTUVWXYZ1234567890'\n",
        "length = input('Длина пароля' + '\\n')\n",
        "password = ''\n",
        "try:\n",
        "  length = int(length)\n",
        "  for n in range(length):\n",
        "    password += random.choice(chars)\n",
        "  print(password)\n",
        "except ValueError:\n",
        "  print('Вы ввели буквы, пожалуйста введите цифры')\n",
        "#finally: # работает всегда\n",
        "  length = input('Длина пароля' + '\\n')\n",
        "  length = int(length)\n",
        "  for n in range(length):\n",
        "    password += random.choice(chars)\n",
        "  print(password)\n",
        "\n"
      ],
      "metadata": {
        "id": "lb9MmYtZBwnO"
      },
      "execution_count": null,
      "outputs": []
    },
    {
      "cell_type": "code",
      "source": [
        "# Алгоритм Евклида это алгоритм нахождения наибольшего общего делителя (НОД) пары целых чисел.\n",
        "\n",
        "a = 35\n",
        "b = 14\n",
        "while a!= 0 and b!= 0:\n",
        "  if a > b:\n",
        "    a = a % b\n",
        "  else:\n",
        "    b = b % a\n",
        "print(a + b)\n"
      ],
      "metadata": {
        "id": "Rk27jiUdHV1t"
      },
      "execution_count": null,
      "outputs": []
    },
    {
      "cell_type": "code",
      "source": [
        "# метод вычитания\n",
        "a = 35\n",
        "b = 14\n",
        "while a!= b:\n",
        "  if a> b:\n",
        "    a = a - b\n",
        "  else: \n",
        "    b = b - a\n",
        "print(a)\n",
        "\n"
      ],
      "metadata": {
        "id": "1pbwFjmZIolz"
      },
      "execution_count": null,
      "outputs": []
    },
    {
      "cell_type": "code",
      "source": [
        "# Сортировка выбором\n",
        "# Алгоритм сортировки выбором заключается в поиске на необработанном срезе массива или списка\n",
        "# минимального значения и в дальнейшем обмене этого значения с первым элементом необработанного\n",
        "# среза. На следующем шаге необработанный срез уменьшается на один элемент.\n",
        "\n",
        "from random import randint\n",
        "n = 10\n",
        "arr = []\n",
        " \n",
        "for i in range(n):\n",
        "  arr.append(randint(10, 50))\n",
        "print (arr)\n",
        "# отсортируем его \n",
        "\n",
        "i = 0\n",
        "while i < n - 1: # индексация массива с нуля потому что\n",
        "  m = i\n",
        "  j = i + 1\n",
        "  while j < n:\n",
        "    if arr[j] < arr [m]:\n",
        "      m = j\n",
        "    j += 1\n",
        "  arr [i], arr[m] = arr [m], arr [i] # переназначение\n",
        "  i += 1\n",
        "print (arr)\n",
        "# по времени медленный"
      ],
      "metadata": {
        "colab": {
          "base_uri": "https://localhost:8080/"
        },
        "id": "z7rKrlRvgZ0y",
        "outputId": "a5beaa76-03f7-4c26-c36b-5597c48b0a57"
      },
      "execution_count": 37,
      "outputs": [
        {
          "output_type": "stream",
          "name": "stdout",
          "text": [
            "[14, 34, 12, 25, 35, 37, 34, 17, 40, 10]\n",
            "[10, 12, 14, 17, 25, 34, 34, 35, 37, 40]\n"
          ]
        }
      ]
    },
    {
      "cell_type": "code",
      "source": [
        "# или\n",
        "from random import randint\n",
        "n = 10\n",
        "arr = []\n",
        " \n",
        "for i in range(n):\n",
        "  arr.append(randint(10, 50))\n",
        "print (arr)\n",
        "a = sorted(arr)\n",
        "print(a)\n",
        "\n"
      ],
      "metadata": {
        "id": "43IW8aoSMsqM"
      },
      "execution_count": null,
      "outputs": []
    },
    {
      "cell_type": "code",
      "source": [
        "#  Отсортировать массив [12, 4, 54, 29, 46, 36, 72, 99, 85] Вывести итог на экран\n",
        "\n",
        "arr = [12, 4, 54, 29, 46, 36, 72, 99, 85]\n",
        "n = len(arr)\n",
        "print('Длина массива:', n)\n",
        "\n",
        "\n",
        "i = 0\n",
        "while i < n - 1:\n",
        "  m = i\n",
        "  j = i + 1\n",
        "  while j < n:\n",
        "    if arr[j] < arr [m]:\n",
        "      m = j\n",
        "    j += 1\n",
        "  arr [i], arr[m] = arr [m], arr [i]\n",
        "  i += 1\n",
        "print (arr)\n",
        "\n",
        "# Длина массива: 9\n",
        "# [4, 12, 29, 36, 46, 54, 72, 85, 99]\n"
      ],
      "metadata": {
        "id": "l0kHTdoUTEj4"
      },
      "execution_count": null,
      "outputs": []
    },
    {
      "cell_type": "code",
      "source": [
        "# Сортировка пузырьком\n",
        "# метод сортировки массивов и списков путем последовательного сравнения и обмена\n",
        "# соседних элементов, если предшествующий оказывается больше последующего.\n",
        "\n",
        "arr = [7,13,5,3,9]\n",
        "n = len(arr)\n",
        "\n",
        "for i in range(n-1):\n",
        "  for j in range (n-i-1):\n",
        "    if arr[j] > arr[j+1]:\n",
        "      arr[j], arr[j+1] = arr[j+1], arr[j]\n",
        "print (arr)        "
      ],
      "metadata": {
        "id": "14AyZPvCnOl0"
      },
      "execution_count": null,
      "outputs": []
    },
    {
      "cell_type": "code",
      "source": [
        "# Сортировка пузырьком через цикл FOR\n",
        "arr = [7, 13, 5, 3, 9, 14, 26, 72]\n",
        "n = len(arr)\n",
        "print (arr)\n",
        " \n",
        "for i in range(n-1): # длина массива минус 1\n",
        "  for j in range(n-i-1):# внутренний цикл \n",
        "    if arr[j] > arr[j+1]:# если вызванный элемент больше последующего\n",
        "      arr[j], arr[j+1] = arr[j+1], arr[j]# перестанавливаем местами\n",
        "print (arr)\n",
        "\n",
        "# [7, 13, 5, 3, 9, 14, 26, 72]\n",
        "# [3, 5, 7, 9, 13, 14, 26, 72]"
      ],
      "metadata": {
        "id": "dcRI3cjgrq7z"
      },
      "execution_count": null,
      "outputs": []
    },
    {
      "cell_type": "code",
      "source": [
        "# Сортировка пузырьком через цикл while\n",
        "arr = [7, 13, 5, 3, 9, 14, 26, 72]\n",
        "n = len(arr)\n",
        "print (arr)\n",
        " \n",
        "i = 0\n",
        "while i < n -1:\n",
        "  j = 0\n",
        "  while j < n-1-i:\n",
        "    if arr[j] > arr[j+1]:\n",
        "      arr[j], arr[j+1] = arr[j+1], arr[j]\n",
        "    j += 1\n",
        "  i += 1\n",
        "print (arr)"
      ],
      "metadata": {
        "id": "ElmNBgLnrwb2"
      },
      "execution_count": null,
      "outputs": []
    },
    {
      "cell_type": "code",
      "source": [
        "# Бинарный поиск\n",
        "# работает по принципу «разделяй и властвуй». Он быстрее, чем линейный поиск,\n",
        "# но требует, чтобы массив был отсортирован перед выполнением алгоритма.\n",
        "\n",
        "# Обьявим функцию\n",
        "def binary_search(arr, low, high, x):\n",
        "  # Проверка середины массива\n",
        "  if high >= low:\n",
        "    mid = (high + low) // 2\n",
        "    # Если элемент в середине\n",
        "    if arr[mid] == x:\n",
        "      return mid\n",
        "    # Если элемент не в середине, то проверяем левую часть массива\n",
        "    elif arr[mid] > x:\n",
        "      return binary_search(arr, low, mid - 1, x)\n",
        "    # Если элемент в правой части массива\n",
        "    else:\n",
        "      return binary_search(arr, mid + 1, high, x)\n",
        "    # Если элемента вообще нет в массиве\n",
        "  else:\n",
        "    return -1\n",
        " \n",
        "# Теcтовый массив\n",
        "arr = [4, 7, 10, 17, 33, 45, 67, 89, 101, 213, 420]\n",
        "x = input(\"Введи число: \")\n",
        "x = int(x)\n",
        " \n",
        "# Вызов функции\n",
        "result = binary_search(arr, 0, len(arr)-1, x)\n",
        " \n",
        "if result != -1:\n",
        "  print (\"Элемент найден в массиве под индексом \", str(result))\n",
        "else:\n",
        "  print (\"Элемент не присутствует в массиве\")\n",
        "\n",
        "# Введи число: 45\n",
        "# Элемент найден в массиве под индексом  5"
      ],
      "metadata": {
        "id": "rQC-sSfrykLo"
      },
      "execution_count": null,
      "outputs": []
    },
    {
      "cell_type": "code",
      "source": [
        "# Написать программу, которая выполняет с дробными числами одну из четырех операций (сложение, вычитание,\n",
        "# умножение или деление). Программа должна завершаться только по желанию пользователя.\n",
        "\n",
        "print('q в качестве знака операции завершает программу')\n",
        "while True:\n",
        "  s = input('Введите знак(+,-,*,/,%):')\n",
        "  if s == 'q':\n",
        "    break\n",
        "  if s == '%':\n",
        "   print('x - число от которого берем %')\n",
        "   print('y - процент, который берем')\n",
        "  \n",
        "  if s in ('+', '-','*', '/','%'):\n",
        "    try:\n",
        "       x = float(input('x = '))\n",
        "       y = float(input('y = '))\n",
        "    except ValueError:\n",
        "      print('Введите числа')\n",
        "      x = float(input('x = '))\n",
        "      y = float(input('y = '))\n",
        " \n",
        "    if s == '+':\n",
        "      print('%.2f' %(x + y))\n",
        "    elif s == '-':\n",
        "      print('%.2f' %(x - y))\n",
        "    \n",
        "    elif s == '%':\n",
        "      print('%.2f' % (x / 100 * y))\n",
        "\n",
        "    elif s == '*':\n",
        "      print('%.2f' %(x * y))\n",
        "    elif s == '/': \n",
        "      if y!=0:\n",
        "        print('%.2f' %(x / y))\n",
        "      else:\n",
        "        print('на ноль не делится ')\n",
        "  else:\n",
        "    print('не верный знак операции')\n",
        "\n"
      ],
      "metadata": {
        "id": "Ny7Ax_Iiy8lg"
      },
      "execution_count": null,
      "outputs": []
    }
  ]
}